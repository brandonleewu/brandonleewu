{
 "cells": [
  {
   "cell_type": "code",
   "execution_count": 168,
   "id": "9eba3a99",
   "metadata": {},
   "outputs": [],
   "source": [
    "import pandas as pd "
   ]
  },
  {
   "cell_type": "code",
   "execution_count": 169,
   "id": "d3c68542",
   "metadata": {},
   "outputs": [
    {
     "data": {
      "text/html": [
       "<div>\n",
       "<style scoped>\n",
       "    .dataframe tbody tr th:only-of-type {\n",
       "        vertical-align: middle;\n",
       "    }\n",
       "\n",
       "    .dataframe tbody tr th {\n",
       "        vertical-align: top;\n",
       "    }\n",
       "\n",
       "    .dataframe thead th {\n",
       "        text-align: right;\n",
       "    }\n",
       "</style>\n",
       "<table border=\"1\" class=\"dataframe\">\n",
       "  <thead>\n",
       "    <tr style=\"text-align: right;\">\n",
       "      <th></th>\n",
       "      <th>Education</th>\n",
       "      <th>JoiningYear</th>\n",
       "      <th>City</th>\n",
       "      <th>PaymentTier</th>\n",
       "      <th>Age</th>\n",
       "      <th>Gender</th>\n",
       "      <th>EverBenched</th>\n",
       "      <th>ExperienceInCurrentDomain</th>\n",
       "      <th>LeaveOrNot</th>\n",
       "    </tr>\n",
       "  </thead>\n",
       "  <tbody>\n",
       "    <tr>\n",
       "      <th>0</th>\n",
       "      <td>Bachelors</td>\n",
       "      <td>2017</td>\n",
       "      <td>Bangalore</td>\n",
       "      <td>3</td>\n",
       "      <td>34</td>\n",
       "      <td>Male</td>\n",
       "      <td>No</td>\n",
       "      <td>0</td>\n",
       "      <td>0</td>\n",
       "    </tr>\n",
       "    <tr>\n",
       "      <th>1</th>\n",
       "      <td>Bachelors</td>\n",
       "      <td>2013</td>\n",
       "      <td>Pune</td>\n",
       "      <td>1</td>\n",
       "      <td>28</td>\n",
       "      <td>Female</td>\n",
       "      <td>No</td>\n",
       "      <td>3</td>\n",
       "      <td>1</td>\n",
       "    </tr>\n",
       "    <tr>\n",
       "      <th>2</th>\n",
       "      <td>Bachelors</td>\n",
       "      <td>2014</td>\n",
       "      <td>New Delhi</td>\n",
       "      <td>3</td>\n",
       "      <td>38</td>\n",
       "      <td>Female</td>\n",
       "      <td>No</td>\n",
       "      <td>2</td>\n",
       "      <td>0</td>\n",
       "    </tr>\n",
       "    <tr>\n",
       "      <th>3</th>\n",
       "      <td>Masters</td>\n",
       "      <td>2016</td>\n",
       "      <td>Bangalore</td>\n",
       "      <td>3</td>\n",
       "      <td>27</td>\n",
       "      <td>Male</td>\n",
       "      <td>No</td>\n",
       "      <td>5</td>\n",
       "      <td>1</td>\n",
       "    </tr>\n",
       "    <tr>\n",
       "      <th>4</th>\n",
       "      <td>Masters</td>\n",
       "      <td>2017</td>\n",
       "      <td>Pune</td>\n",
       "      <td>3</td>\n",
       "      <td>24</td>\n",
       "      <td>Male</td>\n",
       "      <td>Yes</td>\n",
       "      <td>2</td>\n",
       "      <td>1</td>\n",
       "    </tr>\n",
       "  </tbody>\n",
       "</table>\n",
       "</div>"
      ],
      "text/plain": [
       "   Education  JoiningYear       City  PaymentTier  Age  Gender EverBenched  \\\n",
       "0  Bachelors         2017  Bangalore            3   34    Male          No   \n",
       "1  Bachelors         2013       Pune            1   28  Female          No   \n",
       "2  Bachelors         2014  New Delhi            3   38  Female          No   \n",
       "3    Masters         2016  Bangalore            3   27    Male          No   \n",
       "4    Masters         2017       Pune            3   24    Male         Yes   \n",
       "\n",
       "   ExperienceInCurrentDomain  LeaveOrNot  \n",
       "0                          0           0  \n",
       "1                          3           1  \n",
       "2                          2           0  \n",
       "3                          5           1  \n",
       "4                          2           1  "
      ]
     },
     "execution_count": 169,
     "metadata": {},
     "output_type": "execute_result"
    }
   ],
   "source": [
    "TP=pd.read_csv('archive.zip')\n",
    "TP.head()"
   ]
  },
  {
   "cell_type": "code",
   "execution_count": 170,
   "id": "dc751de5",
   "metadata": {},
   "outputs": [
    {
     "data": {
      "text/plain": [
       "(4653, 9)"
      ]
     },
     "execution_count": 170,
     "metadata": {},
     "output_type": "execute_result"
    }
   ],
   "source": [
    "TP.shape"
   ]
  },
  {
   "cell_type": "code",
   "execution_count": 171,
   "id": "f09311b1",
   "metadata": {},
   "outputs": [
    {
     "data": {
      "text/plain": [
       "0    3053\n",
       "1    1600\n",
       "Name: LeaveOrNot, dtype: int64"
      ]
     },
     "execution_count": 171,
     "metadata": {},
     "output_type": "execute_result"
    }
   ],
   "source": [
    "TP['LeaveOrNot'].value_counts()"
   ]
  },
  {
   "cell_type": "code",
   "execution_count": 172,
   "id": "b125622a",
   "metadata": {},
   "outputs": [],
   "source": [
    "balanced_data=TP.groupby(['LeaveOrNot'],group_keys=False).apply(lambda x: x.sample(n=1600, random_state=0))"
   ]
  },
  {
   "cell_type": "code",
   "execution_count": 173,
   "id": "392fd7cb",
   "metadata": {},
   "outputs": [
    {
     "data": {
      "text/plain": [
       "0    1600\n",
       "1    1600\n",
       "Name: LeaveOrNot, dtype: int64"
      ]
     },
     "execution_count": 173,
     "metadata": {},
     "output_type": "execute_result"
    }
   ],
   "source": [
    "balanced_data['LeaveOrNot'].value_counts()"
   ]
  },
  {
   "cell_type": "code",
   "execution_count": 174,
   "id": "88bcfa2a",
   "metadata": {},
   "outputs": [],
   "source": [
    "X_Leave, y_Leave=balanced_data.iloc[:,:-1], balanced_data['LeaveOrNot']"
   ]
  },
  {
   "cell_type": "code",
   "execution_count": 175,
   "id": "21f2290a",
   "metadata": {},
   "outputs": [
    {
     "data": {
      "text/html": [
       "<div>\n",
       "<style scoped>\n",
       "    .dataframe tbody tr th:only-of-type {\n",
       "        vertical-align: middle;\n",
       "    }\n",
       "\n",
       "    .dataframe tbody tr th {\n",
       "        vertical-align: top;\n",
       "    }\n",
       "\n",
       "    .dataframe thead th {\n",
       "        text-align: right;\n",
       "    }\n",
       "</style>\n",
       "<table border=\"1\" class=\"dataframe\">\n",
       "  <thead>\n",
       "    <tr style=\"text-align: right;\">\n",
       "      <th></th>\n",
       "      <th>Education</th>\n",
       "      <th>JoiningYear</th>\n",
       "      <th>City</th>\n",
       "      <th>PaymentTier</th>\n",
       "      <th>Age</th>\n",
       "      <th>Gender</th>\n",
       "      <th>EverBenched</th>\n",
       "      <th>ExperienceInCurrentDomain</th>\n",
       "    </tr>\n",
       "  </thead>\n",
       "  <tbody>\n",
       "    <tr>\n",
       "      <th>697</th>\n",
       "      <td>Masters</td>\n",
       "      <td>2017</td>\n",
       "      <td>Pune</td>\n",
       "      <td>2</td>\n",
       "      <td>26</td>\n",
       "      <td>Female</td>\n",
       "      <td>No</td>\n",
       "      <td>4</td>\n",
       "    </tr>\n",
       "    <tr>\n",
       "      <th>3530</th>\n",
       "      <td>Bachelors</td>\n",
       "      <td>2017</td>\n",
       "      <td>New Delhi</td>\n",
       "      <td>2</td>\n",
       "      <td>37</td>\n",
       "      <td>Male</td>\n",
       "      <td>No</td>\n",
       "      <td>0</td>\n",
       "    </tr>\n",
       "  </tbody>\n",
       "</table>\n",
       "</div>"
      ],
      "text/plain": [
       "      Education  JoiningYear       City  PaymentTier  Age  Gender EverBenched  \\\n",
       "697     Masters         2017       Pune            2   26  Female          No   \n",
       "3530  Bachelors         2017  New Delhi            2   37    Male          No   \n",
       "\n",
       "      ExperienceInCurrentDomain  \n",
       "697                           4  \n",
       "3530                          0  "
      ]
     },
     "execution_count": 175,
     "metadata": {},
     "output_type": "execute_result"
    }
   ],
   "source": [
    "X_Leave.head(2)"
   ]
  },
  {
   "cell_type": "code",
   "execution_count": 176,
   "id": "1dc1b77e",
   "metadata": {},
   "outputs": [
    {
     "data": {
      "text/plain": [
       "697     0\n",
       "3530    0\n",
       "Name: LeaveOrNot, dtype: int64"
      ]
     },
     "execution_count": 176,
     "metadata": {},
     "output_type": "execute_result"
    }
   ],
   "source": [
    "y_Leave.head(2)"
   ]
  },
  {
   "cell_type": "code",
   "execution_count": 177,
   "id": "5523802f",
   "metadata": {},
   "outputs": [
    {
     "data": {
      "text/plain": [
       "Bachelors    2440\n",
       "Masters       644\n",
       "PHD           116\n",
       "Name: Education, dtype: int64"
      ]
     },
     "execution_count": 177,
     "metadata": {},
     "output_type": "execute_result"
    }
   ],
   "source": [
    "X_Leave['Education'].value_counts()"
   ]
  },
  {
   "cell_type": "code",
   "execution_count": 178,
   "id": "776f2666",
   "metadata": {},
   "outputs": [
    {
     "data": {
      "text/plain": [
       "2017    731\n",
       "2015    542\n",
       "2014    460\n",
       "2013    457\n",
       "2018    364\n",
       "2012    324\n",
       "2016    322\n",
       "Name: JoiningYear, dtype: int64"
      ]
     },
     "execution_count": 178,
     "metadata": {},
     "output_type": "execute_result"
    }
   ],
   "source": [
    "X_Leave['JoiningYear'].value_counts()"
   ]
  },
  {
   "cell_type": "code",
   "execution_count": 179,
   "id": "12712648",
   "metadata": {},
   "outputs": [
    {
     "data": {
      "text/plain": [
       "Bangalore    1468\n",
       "Pune          950\n",
       "New Delhi     782\n",
       "Name: City, dtype: int64"
      ]
     },
     "execution_count": 179,
     "metadata": {},
     "output_type": "execute_result"
    }
   ],
   "source": [
    "X_Leave['City'].value_counts()"
   ]
  },
  {
   "cell_type": "code",
   "execution_count": 180,
   "id": "24c6a9c9",
   "metadata": {},
   "outputs": [
    {
     "data": {
      "text/plain": [
       "Male      1806\n",
       "Female    1394\n",
       "Name: Gender, dtype: int64"
      ]
     },
     "execution_count": 180,
     "metadata": {},
     "output_type": "execute_result"
    }
   ],
   "source": [
    "X_Leave['Gender'].value_counts()"
   ]
  },
  {
   "cell_type": "code",
   "execution_count": 181,
   "id": "25e593e0",
   "metadata": {},
   "outputs": [
    {
     "data": {
      "text/plain": [
       "No     2846\n",
       "Yes     354\n",
       "Name: EverBenched, dtype: int64"
      ]
     },
     "execution_count": 181,
     "metadata": {},
     "output_type": "execute_result"
    }
   ],
   "source": [
    "X_Leave['EverBenched'].value_counts()"
   ]
  },
  {
   "cell_type": "code",
   "execution_count": 182,
   "id": "f6791dba",
   "metadata": {},
   "outputs": [
    {
     "data": {
      "text/html": [
       "<div>\n",
       "<style scoped>\n",
       "    .dataframe tbody tr th:only-of-type {\n",
       "        vertical-align: middle;\n",
       "    }\n",
       "\n",
       "    .dataframe tbody tr th {\n",
       "        vertical-align: top;\n",
       "    }\n",
       "\n",
       "    .dataframe thead th {\n",
       "        text-align: right;\n",
       "    }\n",
       "</style>\n",
       "<table border=\"1\" class=\"dataframe\">\n",
       "  <thead>\n",
       "    <tr style=\"text-align: right;\">\n",
       "      <th></th>\n",
       "      <th>JoiningYear</th>\n",
       "      <th>PaymentTier</th>\n",
       "      <th>Age</th>\n",
       "      <th>ExperienceInCurrentDomain</th>\n",
       "      <th>Education_Bachelors</th>\n",
       "      <th>Education_Masters</th>\n",
       "      <th>Education_PHD</th>\n",
       "      <th>City_Bangalore</th>\n",
       "      <th>City_New Delhi</th>\n",
       "      <th>City_Pune</th>\n",
       "      <th>Gender_Female</th>\n",
       "      <th>Gender_Male</th>\n",
       "      <th>EverBenched_No</th>\n",
       "      <th>EverBenched_Yes</th>\n",
       "    </tr>\n",
       "  </thead>\n",
       "  <tbody>\n",
       "    <tr>\n",
       "      <th>697</th>\n",
       "      <td>2017</td>\n",
       "      <td>2</td>\n",
       "      <td>26</td>\n",
       "      <td>4</td>\n",
       "      <td>0</td>\n",
       "      <td>1</td>\n",
       "      <td>0</td>\n",
       "      <td>0</td>\n",
       "      <td>0</td>\n",
       "      <td>1</td>\n",
       "      <td>1</td>\n",
       "      <td>0</td>\n",
       "      <td>1</td>\n",
       "      <td>0</td>\n",
       "    </tr>\n",
       "    <tr>\n",
       "      <th>3530</th>\n",
       "      <td>2017</td>\n",
       "      <td>2</td>\n",
       "      <td>37</td>\n",
       "      <td>0</td>\n",
       "      <td>1</td>\n",
       "      <td>0</td>\n",
       "      <td>0</td>\n",
       "      <td>0</td>\n",
       "      <td>1</td>\n",
       "      <td>0</td>\n",
       "      <td>0</td>\n",
       "      <td>1</td>\n",
       "      <td>1</td>\n",
       "      <td>0</td>\n",
       "    </tr>\n",
       "  </tbody>\n",
       "</table>\n",
       "</div>"
      ],
      "text/plain": [
       "      JoiningYear  PaymentTier  Age  ExperienceInCurrentDomain  \\\n",
       "697          2017            2   26                          4   \n",
       "3530         2017            2   37                          0   \n",
       "\n",
       "      Education_Bachelors  Education_Masters  Education_PHD  City_Bangalore  \\\n",
       "697                     0                  1              0               0   \n",
       "3530                    1                  0              0               0   \n",
       "\n",
       "      City_New Delhi  City_Pune  Gender_Female  Gender_Male  EverBenched_No  \\\n",
       "697                0          1              1            0               1   \n",
       "3530               1          0              0            1               1   \n",
       "\n",
       "      EverBenched_Yes  \n",
       "697                 0  \n",
       "3530                0  "
      ]
     },
     "execution_count": 182,
     "metadata": {},
     "output_type": "execute_result"
    }
   ],
   "source": [
    "X_dummies=pd.get_dummies(X_Leave)\n",
    "X_dummies.head(2)"
   ]
  },
  {
   "cell_type": "code",
   "execution_count": 183,
   "id": "40dce5b9",
   "metadata": {},
   "outputs": [
    {
     "data": {
      "text/html": [
       "<div>\n",
       "<style scoped>\n",
       "    .dataframe tbody tr th:only-of-type {\n",
       "        vertical-align: middle;\n",
       "    }\n",
       "\n",
       "    .dataframe tbody tr th {\n",
       "        vertical-align: top;\n",
       "    }\n",
       "\n",
       "    .dataframe thead th {\n",
       "        text-align: right;\n",
       "    }\n",
       "</style>\n",
       "<table border=\"1\" class=\"dataframe\">\n",
       "  <thead>\n",
       "    <tr style=\"text-align: right;\">\n",
       "      <th></th>\n",
       "      <th>JoiningYear</th>\n",
       "      <th>PaymentTier</th>\n",
       "      <th>Age</th>\n",
       "      <th>ExperienceInCurrentDomain</th>\n",
       "      <th>Education_Bachelors</th>\n",
       "      <th>Education_Masters</th>\n",
       "      <th>Education_PHD</th>\n",
       "      <th>City_Bangalore</th>\n",
       "      <th>City_New Delhi</th>\n",
       "      <th>City_Pune</th>\n",
       "      <th>Gender_Female</th>\n",
       "      <th>Gender_Male</th>\n",
       "      <th>EverBenched_No</th>\n",
       "      <th>EverBenched_Yes</th>\n",
       "    </tr>\n",
       "  </thead>\n",
       "  <tbody>\n",
       "    <tr>\n",
       "      <th>count</th>\n",
       "      <td>3200.000000</td>\n",
       "      <td>3200.00000</td>\n",
       "      <td>3200.000000</td>\n",
       "      <td>3200.000000</td>\n",
       "      <td>3200.000000</td>\n",
       "      <td>3200.000000</td>\n",
       "      <td>3200.000000</td>\n",
       "      <td>3200.000000</td>\n",
       "      <td>3200.000000</td>\n",
       "      <td>3200.000000</td>\n",
       "      <td>3200.000000</td>\n",
       "      <td>3200.000000</td>\n",
       "      <td>3200.000000</td>\n",
       "      <td>3200.000000</td>\n",
       "    </tr>\n",
       "    <tr>\n",
       "      <th>mean</th>\n",
       "      <td>2015.165625</td>\n",
       "      <td>2.66375</td>\n",
       "      <td>29.301250</td>\n",
       "      <td>2.912812</td>\n",
       "      <td>0.762500</td>\n",
       "      <td>0.201250</td>\n",
       "      <td>0.036250</td>\n",
       "      <td>0.458750</td>\n",
       "      <td>0.244375</td>\n",
       "      <td>0.296875</td>\n",
       "      <td>0.435625</td>\n",
       "      <td>0.564375</td>\n",
       "      <td>0.889375</td>\n",
       "      <td>0.110625</td>\n",
       "    </tr>\n",
       "    <tr>\n",
       "      <th>std</th>\n",
       "      <td>1.907375</td>\n",
       "      <td>0.57351</td>\n",
       "      <td>4.839067</td>\n",
       "      <td>1.548091</td>\n",
       "      <td>0.425618</td>\n",
       "      <td>0.400997</td>\n",
       "      <td>0.186941</td>\n",
       "      <td>0.498373</td>\n",
       "      <td>0.429783</td>\n",
       "      <td>0.456952</td>\n",
       "      <td>0.495916</td>\n",
       "      <td>0.495916</td>\n",
       "      <td>0.313716</td>\n",
       "      <td>0.313716</td>\n",
       "    </tr>\n",
       "    <tr>\n",
       "      <th>min</th>\n",
       "      <td>2012.000000</td>\n",
       "      <td>1.00000</td>\n",
       "      <td>22.000000</td>\n",
       "      <td>0.000000</td>\n",
       "      <td>0.000000</td>\n",
       "      <td>0.000000</td>\n",
       "      <td>0.000000</td>\n",
       "      <td>0.000000</td>\n",
       "      <td>0.000000</td>\n",
       "      <td>0.000000</td>\n",
       "      <td>0.000000</td>\n",
       "      <td>0.000000</td>\n",
       "      <td>0.000000</td>\n",
       "      <td>0.000000</td>\n",
       "    </tr>\n",
       "    <tr>\n",
       "      <th>25%</th>\n",
       "      <td>2014.000000</td>\n",
       "      <td>2.00000</td>\n",
       "      <td>26.000000</td>\n",
       "      <td>2.000000</td>\n",
       "      <td>1.000000</td>\n",
       "      <td>0.000000</td>\n",
       "      <td>0.000000</td>\n",
       "      <td>0.000000</td>\n",
       "      <td>0.000000</td>\n",
       "      <td>0.000000</td>\n",
       "      <td>0.000000</td>\n",
       "      <td>0.000000</td>\n",
       "      <td>1.000000</td>\n",
       "      <td>0.000000</td>\n",
       "    </tr>\n",
       "    <tr>\n",
       "      <th>50%</th>\n",
       "      <td>2015.000000</td>\n",
       "      <td>3.00000</td>\n",
       "      <td>28.000000</td>\n",
       "      <td>3.000000</td>\n",
       "      <td>1.000000</td>\n",
       "      <td>0.000000</td>\n",
       "      <td>0.000000</td>\n",
       "      <td>0.000000</td>\n",
       "      <td>0.000000</td>\n",
       "      <td>0.000000</td>\n",
       "      <td>0.000000</td>\n",
       "      <td>1.000000</td>\n",
       "      <td>1.000000</td>\n",
       "      <td>0.000000</td>\n",
       "    </tr>\n",
       "    <tr>\n",
       "      <th>75%</th>\n",
       "      <td>2017.000000</td>\n",
       "      <td>3.00000</td>\n",
       "      <td>32.000000</td>\n",
       "      <td>4.000000</td>\n",
       "      <td>1.000000</td>\n",
       "      <td>0.000000</td>\n",
       "      <td>0.000000</td>\n",
       "      <td>1.000000</td>\n",
       "      <td>0.000000</td>\n",
       "      <td>1.000000</td>\n",
       "      <td>1.000000</td>\n",
       "      <td>1.000000</td>\n",
       "      <td>1.000000</td>\n",
       "      <td>0.000000</td>\n",
       "    </tr>\n",
       "    <tr>\n",
       "      <th>max</th>\n",
       "      <td>2018.000000</td>\n",
       "      <td>3.00000</td>\n",
       "      <td>41.000000</td>\n",
       "      <td>7.000000</td>\n",
       "      <td>1.000000</td>\n",
       "      <td>1.000000</td>\n",
       "      <td>1.000000</td>\n",
       "      <td>1.000000</td>\n",
       "      <td>1.000000</td>\n",
       "      <td>1.000000</td>\n",
       "      <td>1.000000</td>\n",
       "      <td>1.000000</td>\n",
       "      <td>1.000000</td>\n",
       "      <td>1.000000</td>\n",
       "    </tr>\n",
       "  </tbody>\n",
       "</table>\n",
       "</div>"
      ],
      "text/plain": [
       "       JoiningYear  PaymentTier          Age  ExperienceInCurrentDomain  \\\n",
       "count  3200.000000   3200.00000  3200.000000                3200.000000   \n",
       "mean   2015.165625      2.66375    29.301250                   2.912812   \n",
       "std       1.907375      0.57351     4.839067                   1.548091   \n",
       "min    2012.000000      1.00000    22.000000                   0.000000   \n",
       "25%    2014.000000      2.00000    26.000000                   2.000000   \n",
       "50%    2015.000000      3.00000    28.000000                   3.000000   \n",
       "75%    2017.000000      3.00000    32.000000                   4.000000   \n",
       "max    2018.000000      3.00000    41.000000                   7.000000   \n",
       "\n",
       "       Education_Bachelors  Education_Masters  Education_PHD  City_Bangalore  \\\n",
       "count          3200.000000        3200.000000    3200.000000     3200.000000   \n",
       "mean              0.762500           0.201250       0.036250        0.458750   \n",
       "std               0.425618           0.400997       0.186941        0.498373   \n",
       "min               0.000000           0.000000       0.000000        0.000000   \n",
       "25%               1.000000           0.000000       0.000000        0.000000   \n",
       "50%               1.000000           0.000000       0.000000        0.000000   \n",
       "75%               1.000000           0.000000       0.000000        1.000000   \n",
       "max               1.000000           1.000000       1.000000        1.000000   \n",
       "\n",
       "       City_New Delhi    City_Pune  Gender_Female  Gender_Male  \\\n",
       "count     3200.000000  3200.000000    3200.000000  3200.000000   \n",
       "mean         0.244375     0.296875       0.435625     0.564375   \n",
       "std          0.429783     0.456952       0.495916     0.495916   \n",
       "min          0.000000     0.000000       0.000000     0.000000   \n",
       "25%          0.000000     0.000000       0.000000     0.000000   \n",
       "50%          0.000000     0.000000       0.000000     1.000000   \n",
       "75%          0.000000     1.000000       1.000000     1.000000   \n",
       "max          1.000000     1.000000       1.000000     1.000000   \n",
       "\n",
       "       EverBenched_No  EverBenched_Yes  \n",
       "count     3200.000000      3200.000000  \n",
       "mean         0.889375         0.110625  \n",
       "std          0.313716         0.313716  \n",
       "min          0.000000         0.000000  \n",
       "25%          1.000000         0.000000  \n",
       "50%          1.000000         0.000000  \n",
       "75%          1.000000         0.000000  \n",
       "max          1.000000         1.000000  "
      ]
     },
     "execution_count": 183,
     "metadata": {},
     "output_type": "execute_result"
    }
   ],
   "source": [
    "X_dummies.describe()"
   ]
  },
  {
   "cell_type": "code",
   "execution_count": 184,
   "id": "d812d654",
   "metadata": {},
   "outputs": [],
   "source": [
    "from sklearn.model_selection import train_test_split"
   ]
  },
  {
   "cell_type": "code",
   "execution_count": 185,
   "id": "82cc84a8",
   "metadata": {},
   "outputs": [],
   "source": [
    "X_train, X_test, y_train, y_test=train_test_split(X_dummies, y_Leave, random_state=0)"
   ]
  },
  {
   "cell_type": "markdown",
   "id": "28540704",
   "metadata": {},
   "source": [
    "# k-NN model"
   ]
  },
  {
   "cell_type": "code",
   "execution_count": 186,
   "id": "4ea4e43b",
   "metadata": {},
   "outputs": [],
   "source": [
    "from sklearn.neighbors import KNeighborsClassifier\n",
    "from sklearn.model_selection import validation_curve"
   ]
  },
  {
   "cell_type": "code",
   "execution_count": 187,
   "id": "f7f1fd56",
   "metadata": {},
   "outputs": [],
   "source": [
    "train_scores_knn, test_scores_knn = validation_curve(KNeighborsClassifier(), \n",
    "                                    X_train, y_train, param_name='n_neighbors', param_range=[5,7,10,15,20,25], cv=5)"
   ]
  },
  {
   "cell_type": "code",
   "execution_count": 188,
   "id": "ea32e236",
   "metadata": {},
   "outputs": [
    {
     "data": {
      "text/plain": [
       "array([0.819, 0.806, 0.786, 0.779, 0.77 , 0.77 ])"
      ]
     },
     "execution_count": 188,
     "metadata": {},
     "output_type": "execute_result"
    }
   ],
   "source": [
    "train_scores_knn.mean(axis=1).round(3)"
   ]
  },
  {
   "cell_type": "code",
   "execution_count": 189,
   "id": "86e73f59",
   "metadata": {},
   "outputs": [
    {
     "data": {
      "text/plain": [
       "array([0.742, 0.735, 0.736, 0.737, 0.732, 0.733])"
      ]
     },
     "execution_count": 189,
     "metadata": {},
     "output_type": "execute_result"
    }
   ],
   "source": [
    "test_scores_knn.mean(axis=1).round(3)"
   ]
  },
  {
   "cell_type": "code",
   "execution_count": 190,
   "id": "7e58a8ea",
   "metadata": {},
   "outputs": [
    {
     "data": {
      "text/plain": [
       "KNeighborsClassifier()"
      ]
     },
     "execution_count": 190,
     "metadata": {},
     "output_type": "execute_result"
    }
   ],
   "source": [
    "knn_cls_5=KNeighborsClassifier(n_neighbors=5)\n",
    "knn_cls_5.fit(X_train, y_train)"
   ]
  },
  {
   "cell_type": "code",
   "execution_count": 191,
   "id": "bdd5c0ec",
   "metadata": {},
   "outputs": [
    {
     "name": "stdout",
     "output_type": "stream",
     "text": [
      "Knn5 acc on train 81.25%\n",
      "Knn5 acc on test 72.62%\n"
     ]
    }
   ],
   "source": [
    "print('Knn5 acc on train {:.2%}'.format(knn_cls_5.score(X_train, y_train)))\n",
    "print('Knn5 acc on test {:.2%}'.format(knn_cls_5.score(X_test, y_test)))"
   ]
  },
  {
   "cell_type": "code",
   "execution_count": 192,
   "id": "3d25dcb4",
   "metadata": {},
   "outputs": [],
   "source": [
    "p1=[[2017,2,37,0,1,0,0,0,1,0,0,1,1,0]]"
   ]
  },
  {
   "cell_type": "code",
   "execution_count": 193,
   "id": "48a945f2",
   "metadata": {},
   "outputs": [
    {
     "data": {
      "text/plain": [
       "array([0], dtype=int64)"
      ]
     },
     "execution_count": 193,
     "metadata": {},
     "output_type": "execute_result"
    }
   ],
   "source": [
    "knn_cls_5.predict(p1)"
   ]
  },
  {
   "cell_type": "code",
   "execution_count": 194,
   "id": "22a74339",
   "metadata": {},
   "outputs": [
    {
     "data": {
      "text/plain": [
       "array([[0.6, 0.4]])"
      ]
     },
     "execution_count": 194,
     "metadata": {},
     "output_type": "execute_result"
    }
   ],
   "source": [
    "knn_cls_5.predict_proba(p1)"
   ]
  },
  {
   "cell_type": "markdown",
   "id": "7b59bca6",
   "metadata": {},
   "source": [
    "# Logistic Regression"
   ]
  },
  {
   "cell_type": "code",
   "execution_count": 195,
   "id": "221ecb0e",
   "metadata": {},
   "outputs": [],
   "source": [
    "from sklearn.model_selection import validation_curve\n",
    "from sklearn.linear_model import LogisticRegression"
   ]
  },
  {
   "cell_type": "code",
   "execution_count": 196,
   "id": "d9019ff9",
   "metadata": {},
   "outputs": [],
   "source": [
    "C_range=[0.01,.1,1,2,5,10,15,20,30,40,50,60]"
   ]
  },
  {
   "cell_type": "code",
   "execution_count": 197,
   "id": "5989b8e0",
   "metadata": {},
   "outputs": [],
   "source": [
    "train_score_lr,test_score_lr=validation_curve(LogisticRegression(max_iter=10000, random_state=0),\n",
    "                                X_train,y_train,param_name='C',param_range=C_range,cv=4)"
   ]
  },
  {
   "cell_type": "code",
   "execution_count": 198,
   "id": "5934e8e3",
   "metadata": {},
   "outputs": [
    {
     "data": {
      "text/plain": [
       "array([0.6643, 0.6767, 0.6735, 0.6744, 0.6743, 0.6729, 0.6736, 0.6738,\n",
       "       0.676 , 0.6764, 0.675 , 0.6751])"
      ]
     },
     "execution_count": 198,
     "metadata": {},
     "output_type": "execute_result"
    }
   ],
   "source": [
    "train_score_lr.mean(axis=1).round(4)"
   ]
  },
  {
   "cell_type": "code",
   "execution_count": 199,
   "id": "2b9666fb",
   "metadata": {
    "scrolled": true
   },
   "outputs": [
    {
     "data": {
      "text/plain": [
       "array([0.6604, 0.6717, 0.67  , 0.6708, 0.67  , 0.6704, 0.675 , 0.6729,\n",
       "       0.675 , 0.675 , 0.6758, 0.6742])"
      ]
     },
     "execution_count": 199,
     "metadata": {},
     "output_type": "execute_result"
    }
   ],
   "source": [
    "test_score_lr.mean(axis=1).round(4)"
   ]
  },
  {
   "cell_type": "code",
   "execution_count": 200,
   "id": "24123448",
   "metadata": {},
   "outputs": [
    {
     "data": {
      "text/plain": [
       "LogisticRegression(C=50, max_iter=1000, random_state=0)"
      ]
     },
     "execution_count": 200,
     "metadata": {},
     "output_type": "execute_result"
    }
   ],
   "source": [
    "log_reg_50=LogisticRegression(random_state=0, max_iter=1000, C=50)\n",
    "log_reg_50.fit(X_train,y_train)"
   ]
  },
  {
   "cell_type": "code",
   "execution_count": 201,
   "id": "94a05b31",
   "metadata": {},
   "outputs": [
    {
     "name": "stdout",
     "output_type": "stream",
     "text": [
      "log_reg50 acc on train 68.17%\n",
      "log_reg50 acc on test 68.75%\n"
     ]
    }
   ],
   "source": [
    "print('log_reg50 acc on train {:.2%}'.format(log_reg_50.score(X_train, y_train)))\n",
    "print('log_reg50 acc on test {:.2%}'.format(log_reg_50.score(X_test, y_test)))"
   ]
  },
  {
   "cell_type": "code",
   "execution_count": 202,
   "id": "bf64213b",
   "metadata": {},
   "outputs": [
    {
     "data": {
      "text/plain": [
       "array([0], dtype=int64)"
      ]
     },
     "execution_count": 202,
     "metadata": {},
     "output_type": "execute_result"
    }
   ],
   "source": [
    "p1=[[2017,2,37,0,1,0,0,0,1,0,0,1,1,0]]\n",
    "log_reg_50.predict(p1)"
   ]
  },
  {
   "cell_type": "code",
   "execution_count": 203,
   "id": "9929cc14",
   "metadata": {
    "scrolled": true
   },
   "outputs": [
    {
     "data": {
      "text/plain": [
       "array([[0.77284748, 0.22715252]])"
      ]
     },
     "execution_count": 203,
     "metadata": {},
     "output_type": "execute_result"
    }
   ],
   "source": [
    "log_reg_50.predict_proba(p1)"
   ]
  },
  {
   "cell_type": "markdown",
   "id": "3b0f4b0e",
   "metadata": {},
   "source": [
    "# SVM"
   ]
  },
  {
   "cell_type": "code",
   "execution_count": 204,
   "id": "1275b797",
   "metadata": {},
   "outputs": [],
   "source": [
    "from sklearn.svm import LinearSVC"
   ]
  },
  {
   "cell_type": "code",
   "execution_count": 205,
   "id": "caa4864e",
   "metadata": {},
   "outputs": [],
   "source": [
    "from sklearn.preprocessing import MinMaxScaler"
   ]
  },
  {
   "cell_type": "code",
   "execution_count": 206,
   "id": "d420a402",
   "metadata": {},
   "outputs": [],
   "source": [
    "scaler1=MinMaxScaler()"
   ]
  },
  {
   "cell_type": "code",
   "execution_count": 207,
   "id": "2f4d34c1",
   "metadata": {},
   "outputs": [
    {
     "data": {
      "text/plain": [
       "array([[0.83333333, 0.5       , 0.21052632, ..., 0.        , 1.        ,\n",
       "        0.        ],\n",
       "       [0.83333333, 0.5       , 0.78947368, ..., 1.        , 1.        ,\n",
       "        0.        ],\n",
       "       [0.        , 1.        , 0.84210526, ..., 0.        , 1.        ,\n",
       "        0.        ],\n",
       "       ...,\n",
       "       [0.66666667, 1.        , 1.        , ..., 0.        , 1.        ,\n",
       "        0.        ],\n",
       "       [0.5       , 0.5       , 0.31578947, ..., 0.        , 0.        ,\n",
       "        1.        ],\n",
       "       [1.        , 1.        , 0.15789474, ..., 0.        , 1.        ,\n",
       "        0.        ]])"
      ]
     },
     "execution_count": 207,
     "metadata": {},
     "output_type": "execute_result"
    }
   ],
   "source": [
    "X_dum_trns=scaler1.fit_transform(X_dummies)\n",
    "X_dum_trns"
   ]
  },
  {
   "cell_type": "code",
   "execution_count": 208,
   "id": "5db63a3b",
   "metadata": {},
   "outputs": [],
   "source": [
    "X_train1,X_test1,y_train1,y_test1=train_test_split(X_dum_trns,y_Leave,random_state=0)"
   ]
  },
  {
   "cell_type": "code",
   "execution_count": 209,
   "id": "af543859",
   "metadata": {},
   "outputs": [],
   "source": [
    "c_range_svm=[0.001,0.005,0.01,0.05,0.1,0.5,1,5,6,7]"
   ]
  },
  {
   "cell_type": "code",
   "execution_count": 210,
   "id": "028979c1",
   "metadata": {},
   "outputs": [],
   "source": [
    "train_Score_svm,test_Score_svm=validation_curve(LinearSVC(max_iter=100000, random_state=0),X_train1,y_train1,param_name='C',param_range=c_range_svm,cv=5)"
   ]
  },
  {
   "cell_type": "code",
   "execution_count": 211,
   "id": "0a74c3e2",
   "metadata": {},
   "outputs": [
    {
     "data": {
      "text/plain": [
       "array([0.6714, 0.6874, 0.6916, 0.6918, 0.6919, 0.6932, 0.6931, 0.6929,\n",
       "       0.6929, 0.6929])"
      ]
     },
     "execution_count": 211,
     "metadata": {},
     "output_type": "execute_result"
    }
   ],
   "source": [
    "train_Score_svm.mean(axis=1).round(4)"
   ]
  },
  {
   "cell_type": "code",
   "execution_count": 212,
   "id": "f2275881",
   "metadata": {},
   "outputs": [
    {
     "data": {
      "text/plain": [
       "array([0.6675, 0.6838, 0.6875, 0.6904, 0.6908, 0.6938, 0.6933, 0.6933,\n",
       "       0.6933, 0.6933])"
      ]
     },
     "execution_count": 212,
     "metadata": {},
     "output_type": "execute_result"
    }
   ],
   "source": [
    "test_Score_svm.mean(axis=1).round(4)"
   ]
  },
  {
   "cell_type": "code",
   "execution_count": 213,
   "id": "80d6f060",
   "metadata": {},
   "outputs": [
    {
     "data": {
      "text/plain": [
       "LinearSVC(C=0.5, max_iter=100000, random_state=0)"
      ]
     },
     "execution_count": 213,
     "metadata": {},
     "output_type": "execute_result"
    }
   ],
   "source": [
    "svm5=LinearSVC(random_state=0,max_iter=100000,C=0.5)\n",
    "svm5.fit(X_train1,y_train1)"
   ]
  },
  {
   "cell_type": "code",
   "execution_count": 214,
   "id": "9fcbd8d1",
   "metadata": {
    "scrolled": true
   },
   "outputs": [
    {
     "name": "stdout",
     "output_type": "stream",
     "text": [
      "svm acc on train 68.92%\n",
      "svm acc on test 68.12%\n"
     ]
    }
   ],
   "source": [
    "print('svm acc on train {:.2%}'.format(svm5.score(X_train1, y_train1)))\n",
    "print('svm acc on test {:.2%}'.format(svm5.score(X_test1, y_test1)))"
   ]
  },
  {
   "cell_type": "code",
   "execution_count": 215,
   "id": "2d2b2caa",
   "metadata": {},
   "outputs": [
    {
     "data": {
      "text/plain": [
       "array([[0., 0., 0., 0., 0., 0., 0., 0., 0., 0., 0., 0., 0., 0.]])"
      ]
     },
     "execution_count": 215,
     "metadata": {},
     "output_type": "execute_result"
    }
   ],
   "source": [
    "p=[[2017,2,30,8,0,0,1,1,0,0,1,0,1,0]]\n",
    "p_trns=scaler1.fit_transform(p)\n",
    "p_trns"
   ]
  },
  {
   "cell_type": "code",
   "execution_count": 216,
   "id": "d4bc9069",
   "metadata": {},
   "outputs": [
    {
     "data": {
      "text/plain": [
       "array([1], dtype=int64)"
      ]
     },
     "execution_count": 216,
     "metadata": {},
     "output_type": "execute_result"
    }
   ],
   "source": [
    "svm5.predict(p_trns)"
   ]
  },
  {
   "cell_type": "code",
   "execution_count": null,
   "id": "edbe43d8",
   "metadata": {},
   "outputs": [],
   "source": []
  },
  {
   "cell_type": "code",
   "execution_count": null,
   "id": "67572bb3",
   "metadata": {},
   "outputs": [],
   "source": []
  }
 ],
 "metadata": {
  "kernelspec": {
   "display_name": "Python 3",
   "language": "python",
   "name": "python3"
  },
  "language_info": {
   "codemirror_mode": {
    "name": "ipython",
    "version": 3
   },
   "file_extension": ".py",
   "mimetype": "text/x-python",
   "name": "python",
   "nbconvert_exporter": "python",
   "pygments_lexer": "ipython3",
   "version": "3.8.8"
  },
  "toc": {
   "base_numbering": 1,
   "nav_menu": {},
   "number_sections": true,
   "sideBar": true,
   "skip_h1_title": false,
   "title_cell": "Table of Contents",
   "title_sidebar": "Contents",
   "toc_cell": false,
   "toc_position": {},
   "toc_section_display": true,
   "toc_window_display": false
  }
 },
 "nbformat": 4,
 "nbformat_minor": 5
}
